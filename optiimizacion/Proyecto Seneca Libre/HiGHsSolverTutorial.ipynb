{
 "cells": [
  {
   "cell_type": "markdown",
   "metadata": {},
   "source": [
    "# HiGHs Instalation Guide\n",
    "## Author: Juan Andrés Méndez"
   ]
  },
  {
   "cell_type": "markdown",
   "metadata": {
    "vscode": {
     "languageId": "plaintext"
    }
   },
   "source": [
    "## What is HiGHs?\n",
    "\n",
    "HiGHS is an open-source solver for linear programming problems. It is designed to be fast and scalable, and it is written in C++. It is also designed to be easy to use, and it has a Python interface.\n",
    "\n",
    "## What problems can HiGHs solve?\n",
    "\n",
    "### LP\n",
    "| Method | Parallelizable |\n",
    "| --- | --- |\n",
    "| Simplex Primal | Yes |\n",
    "| Simplex Dual | Yes |\n",
    "| Interior Point | Yes |\n",
    "| Primal-Dual Hybrid gradient method | Yes |\n",
    "\n",
    "### MIP\n",
    "| Method | Parallelizable |\n",
    "| --- | --- |\n",
    "| Branch and Cut | Yes |\n",
    "\n",
    "### QP\n",
    "| Method | Parallelizable |\n",
    "| --- | --- |\n",
    "| Active Set | No |\n",
    "\n",
    "\n",
    "\n",
    "\n",
    "\n"
   ]
  },
  {
   "cell_type": "markdown",
   "metadata": {},
   "source": [
    "# How does HiGHs fends against other solvers?"
   ]
  },
  {
   "cell_type": "markdown",
   "metadata": {
    "vscode": {
     "languageId": "plaintext"
    }
   },
   "source": [
    "## Advantages of HiGHs over GLPK\n",
    "HiGHS and GLPK are both popular open-source solvers, particularly for linear programming (LP) and mixed-integer programming (MIP) problems. Each has strengths, but HiGHS generally offers a few advantages over GLPK, especially in terms of performance and modern algorithmic implementations:\n",
    "\n",
    "### 1. **Performance and Scalability**\n",
    "   - **HiGHS**: Known for faster solve times and better scalability, especially for large LP problems. It implements advanced algorithms such as dual simplex and interior-point methods, which tend to be faster than GLPK’s primal simplex approach in many cases.\n",
    "   - **GLPK**: Works well for smaller, straightforward LP and MIP problems but may struggle with larger datasets or complex models, as it lacks some of the advanced techniques HiGHS uses.\n",
    "\n",
    "### 2. **Algorithmic Variety**\n",
    "   - **HiGHS**: Provides multiple solving algorithms, including primal simplex, dual simplex, and an interior-point method. These options allow HiGHS to adapt its approach based on the problem’s characteristics, enhancing both speed and robustness.\n",
    "   - **GLPK**: Primarily uses the primal simplex method for LP, which, while effective for certain problems, may not be as versatile or efficient across different problem types.\n",
    "\n",
    "### 3. **Mixed-Integer Programming (MIP) Optimization**\n",
    "   - **HiGHS**: Although relatively new to MIP, HiGHS has an actively improving MIP solver that incorporates modern branching and cutting strategies, often outperforming GLPK in terms of solve time and solution quality.\n",
    "   - **GLPK**: While functional for MIP, GLPK lacks some of the advanced MIP techniques, which can limit its effectiveness and make it slower for complex or large-scale MIP problems.\n",
    "\n",
    "### 4. **Parallelization and Future GPU Compatibility**\n",
    "   - **HiGHS**: Actively developing towards greater parallelization and has plans for GPU support, especially in LP solvers, which could significantly enhance computational performance.\n",
    "   - **GLPK**: Lacks parallel processing capabilities and does not currently have any GPU support plans, making it less ideal for high-performance or large-scale needs.\n",
    "\n",
    "### 5. **Open-Source Community and Integration**\n",
    "   - **HiGHS**: Has growing community support, active development, and integration into popular tools like SciPy, which makes it accessible for broader scientific and engineering applications.\n",
    "   - **GLPK**: Has an established user base but has had slower development in recent years, with fewer updates compared to HiGHS.\n",
    "\n",
    "### 6. **Software and API Compatibility**\n",
    "   - **HiGHS**: Available in several programming languages (Python, C++, etc.), and its integration with SciPy makes it easy to use within Python-based environments for scientific computing.\n",
    "   - **GLPK**: Also has bindings for multiple languages but can be slightly less user-friendly in terms of integration, especially when dealing with large, complex models."
   ]
  },
  {
   "cell_type": "markdown",
   "metadata": {
    "vscode": {
     "languageId": "plaintext"
    }
   },
   "source": [
    "## Advantages of HiGHs over Gurobi\n",
    "While Gurobi is often regarded as one of the top commercial optimization solvers, HiGHS has some distinct advantages, particularly for users and projects with specific needs:\n",
    "\n",
    "### 1. **Cost and Accessibility**\n",
    "   - **HiGHS**: Completely open-source and free to use under the MIT license, making it accessible for both academic and commercial applications at no cost.\n",
    "   - **Gurobi**: Requires a commercial license, which can be costly, though free academic licenses are available. For businesses, HiGHS provides a viable solution without the need for licensing fees.\n",
    "\n",
    "### 2. **Open-Source Nature**\n",
    "   - **HiGHS**: Being open-source, HiGHS can be modified and customized, allowing users to adapt the code to specific requirements or experiment with its algorithms.\n",
    "   - **Gurobi**: As a proprietary tool, Gurobi doesn’t offer access to its source code, which restricts customization and transparency in algorithm modifications or problem-specific optimizations.\n",
    "\n",
    "### 3. **Integration with Open-Source Ecosystems**\n",
    "   - **HiGHS**: Integrated directly into popular open-source libraries, such as SciPy, making it more seamlessly accessible to Python-based scientific and engineering communities.\n",
    "   - **Gurobi**: Requires additional licensing steps and specific integrations. While it has extensive APIs, access is sometimes limited by licensing and cannot be easily bundled into purely open-source projects without cost considerations.\n",
    "\n",
    "### 4. **Lightweight and Focused on LP Problems**\n",
    "   - **HiGHS**: Specializes in linear programming (LP) and mixed-integer programming (MIP), with a particular focus on large LP problem handling. It is lightweight, less resource-intensive, and can be a faster choice for LP-only requirements.\n",
    "   - **Gurobi**: While excellent for LP, MIP, and quadratic programming (QP), it includes a large array of features and algorithms that may be overkill for users focused solely on LP problems, especially if they don’t need the added capabilities.\n",
    "\n",
    "### 5. **Community and Developer Contribution**\n",
    "   - **HiGHS**: Encourages contributions and has a growing open-source community that actively works on performance improvements, new algorithms, and experimental features. This open-source approach often leads to faster iteration cycles for new ideas and optimizations.\n",
    "   - **Gurobi**: Though it has a dedicated development team, contributions and direct community involvement are restricted due to its closed-source nature.\n",
    "\n",
    "### 6. **Future GPU and Parallel Processing Potential**\n",
    "   - **HiGHS**: Actively developing towards GPU support, especially for large-scale LP problems. As an open-source tool, HiGHS may more readily integrate emerging parallel computing and GPU innovations.\n",
    "   - **Gurobi**: Has limited GPU support for specific problems (like certain QP tasks) but generally relies on CPU-based optimizations. Gurobi’s development in GPU areas may be slower to evolve due to its extensive feature set and closed-source structure.\n",
    "\n",
    "### 7. **Ideal for Research and Experimental Use**\n",
    "   - **HiGHS**: Being open-source, HiGHS is ideal for academic and research environments where experimental adjustments, model transparency, and rapid prototyping are essential. Researchers can explore algorithmic adjustments without licensing restrictions.\n",
    "   - **Gurobi**: While powerful, Gurobi’s proprietary restrictions limit its suitability for those who need full algorithmic transparency or customization for research or experimental purposes.\n",
    "\n",
    "### Summary\n",
    "Gurobi may outperform HiGHS in terms of speed, robustness, and advanced feature sets, especially for complex MIP and QP tasks. However, HiGHS offers significant advantages for users looking for cost-effective, open-source, and flexible solutions focused on LP and MIP. Its adaptability, growing community, and future potential for GPU support make it particularly appealing for academic, research, and smaller-scale commercial applications."
   ]
  },
  {
   "cell_type": "markdown",
   "metadata": {
    "vscode": {
     "languageId": "plaintext"
    }
   },
   "source": [
    "# Instation Guide + Integration with Python/Pyomo\n",
    "\n",
    "## Prerequisites\n",
    "- CMake\n",
    "- C++ Compiler\n",
    "- Python\n",
    "- Git\n",
    "\n",
    "## Installation Steps\n"
   ]
  },
  {
   "cell_type": "markdown",
   "metadata": {
    "vscode": {
     "languageId": "plaintext"
    }
   },
   "source": [
    "### Complie from source\n",
    "\n",
    "HiGHs uses CMake to build the system, and requires at least version 3.15. Details about building from source using CMake can be found in `HiGHS/cmake/README.md`.\n",
    "#### HiGHS CMake Build Instructions \n",
    "\n",
    "##### Introduction \n",
    "\n",
    "HiGHS can be built from source using CMake: <http://www.cmake.org/>. CMake works by generating native Makefiles or build projects that can be used in the compiler environment of your choice.\n",
    "\n",
    "HiGHS can be built as a standalone project or it could be incorporated into an existing CMake project.\n",
    "\n",
    "##### Requirement\n",
    "You'll need:\n",
    "\n",
    "* `CMake >= 3.15`.\n",
    "* A C++11 compiler\n",
    "\n",
    "##### Supported compilers \n",
    "\n",
    "Here is a list of the supported compilers:\n",
    "\n",
    "* Clang `clang`\n",
    "* GNU `g++`\n",
    "* Intel `icc`\n",
    "* Microsoft `MSVC`\n",
    "\n",
    "#### Build\n",
    "\n",
    "To build the C++ library and executable run\n",
    "\n",
    "``` bash\n",
    "cd HiGHS\n",
    "cmake -S. -B build \n",
    "cmake --build build --parallel\n",
    "```\n",
    "\n",
    "This generates HiGHS in the `build` directory and creates the [executable](@ref Executable) `build/bin/highs`, or `build/bin/Release/highs.exe` on Windows. To perform a quick test to see whether the compilation was successful, run `ctest` from within the build folder.\n",
    "\n",
    "``` bash\n",
    "ctest \n",
    "```\n",
    "\n",
    "On Windows, the configuration type must be specified:\n",
    "``` bash\n",
    "ctest -C Release\n",
    "```\n",
    "\n",
    "#### Install\n",
    "\n",
    "The default installation location may need administrative\n",
    "permissions. To install, after building and testing, run\n",
    "\n",
    "``` bash\n",
    "cmake --install build \n",
    "```\n",
    "\n",
    "form the root directory. \n",
    "\n",
    "To install in a specified installation directory run CMake with the\n",
    "`CMAKE_INSTALL_PREFIX` flag set:\n",
    "\n",
    "``` bash\n",
    "cmake -S. -B build -DCMAKE_INSTALL_PREFIX=/path/to/highs_install \n",
    "cmake --build build --parallel\n",
    "cmake --install build\n",
    "```\n",
    "\n",
    "##### Windows \n",
    "\n",
    "By default, CMake builds the debug version of the binaries. These are generated in a directory `Debug`. To build a release version, add the option `--config Release`\n",
    "\n",
    "```shell\n",
    "    cmake -S . -B build\n",
    "    cmake --build build --config Release\n",
    "```\n",
    "\n",
    "It is also possible to specify a specific Visual studio version to build with:\n",
    "```shell\n",
    "    cmake -G \"Visual Studio 17 2022\" -S . -B build\n",
    "    cmake --build build\n",
    "```\n",
    "\n",
    "When building under Windows, some extra options are available.  One is building a 32 bit version or a 64 bit version. The default build is 64 bit. To build 32 bit, the following commands can be used from the `HiGHS/` directory:\n",
    "\n",
    "```shell\n",
    "    cmake -A Win32 -S . -B buildWin32\n",
    "    cmake --build buildWin32\n",
    "```\n",
    "\n",
    "Another thing specific for windows is the calling convention, particularly important for the HiGHS dynamic library (dll). The default calling convention in windows is cdecl calling convention, however, dlls are most often compiled with stdcall. Most applications which expect stdcall, can't access dlls with cdecl and vice versa. To change the default calling convention from cdecl to stdcall the following option can be added\n",
    "```shell\n",
    "    cmake -DSTDCALL=ON -S . -B build\n",
    "    cmake --build build\n",
    "```\n",
    "\n",
    "<!-- An extra note. With the legacy `-DFAST_BUILD=OFF`, under windows the build dll is called `highs.dll` however the exe expects `libhighs.dll` so a manual copy of `highs.dll` to `libhighs.dll` is needed. Of course all above options can be combined with each other. -->\n",
    "\n",
    "#### Integrating HiGHS with Python/Pyomo\n",
    "\n",
    "To use HiGHS with Python, you must install `highspy` which is a Python interface to HiGHS. You can install it using pip:\n",
    "\n",
    "``` bash\n",
    "pip install highspy\n",
    "```\n",
    "\n",
    "once you have it now you can run\n",
    "    \n",
    "``` python\n",
    "import pyomo.environ as pyo\n",
    "from highspy import Highs\n",
    "\n",
    "model = pyo.ConcreteModel()\n",
    "model.x = pyo.Var([1, 2], domain=pyo.NonNegativeReals)\n",
    "model.obj = pyo.Objective(expr=model.x[1] + model.x[2])\n",
    "\n",
    "model.con1 = pyo.Constraint(expr=2 * model.x[1] + model.x[2] <= 3)\n",
    "model.con2 = pyo.Constraint(expr=model.x[1] + 3 * model.x[2] <= 5)\n",
    "\n",
    "opt = pyo.SolverFactory('appsi_highs', executable='/path/to/highs')\n",
    "results = opt.solve(model)\n",
    "\n",
    "model.display()\n",
    "```"
   ]
  },
  {
   "cell_type": "markdown",
   "metadata": {
    "vscode": {
     "languageId": "plaintext"
    }
   },
   "source": [
    "### Precompiled Binaries\n",
    "These binaries are provided by the Julia community and are not officially supported by the HiGHS development team. If you have trouble using these libraries, please open a GitHub issue and tag @odow in your question.\n",
    "\n",
    "Precompiled static executables are available for a variety of platforms at\n",
    "\n",
    "- https://github.com/JuliaBinaryWrappers/HiGHSstatic_jll.jl/releases\n",
    "\n",
    "Multiple versions are available. Each version has the form vX.Y.Z. In general, you should choose the most recent versinon.\n",
    "\n",
    "To install a precompiled binary, download the appropriate HiGHSstatic.vX.Y.Z.[platform-string].tar.gz file and extract the executable located at /bin/highs.\n",
    "\n",
    "Do not download the file starting with HiGHSstatic-logs. These files contain information from the automated compilation system. Click \"Show all N assets\" to see more files.\n",
    "\n",
    "#### Platform strings\n",
    "The GitHub releases contain precompiled binaries for a number of different platforms. These are indicated by the platform-specific string in each filename.\n",
    "\n",
    "- For Windows users: choose the file ending in `x86_64-w64-mingw32-cxx11.tar.gz`\n",
    "- For M1 macOS users: choose the file ending in `aarch64-apple-darwin.tar.gz`\n",
    "- For Intel macOS users: choose the file ending in `x86_64-apple-darwin.tar.gz`"
   ]
  },
  {
   "cell_type": "markdown",
   "metadata": {
    "vscode": {
     "languageId": "plaintext"
    }
   },
   "source": [
    "# TODO: Use HiGHS to solve solve the Multi TSP with multiple depots problem from LAB 2 "
   ]
  },
  {
   "cell_type": "markdown",
   "metadata": {
    "vscode": {
     "languageId": "plaintext"
    }
   },
   "source": [
    "# Documentation:\n",
    "- [HiGHs Documentation](https://ergo-code.github.io/HiGHS/stable/)\n",
    "- [Pyomo Documentation](https://pyomo.readthedocs.io/en/stable/)\n"
   ]
  }
 ],
 "metadata": {
  "language_info": {
   "name": "python"
  }
 },
 "nbformat": 4,
 "nbformat_minor": 2
}
